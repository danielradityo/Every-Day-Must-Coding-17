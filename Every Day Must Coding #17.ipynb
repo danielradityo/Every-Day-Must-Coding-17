{
 "cells": [
  {
   "cell_type": "markdown",
   "metadata": {},
   "source": [
    "# Python Training Example #17 All about String Part 2"
   ]
  },
  {
   "cell_type": "markdown",
   "metadata": {},
   "source": [
    "## Access string"
   ]
  },
  {
   "cell_type": "code",
   "execution_count": 18,
   "metadata": {},
   "outputs": [
    {
     "name": "stdout",
     "output_type": "stream",
     "text": [
      "Daniel\n",
      "Radityo\n",
      "el Radit\n"
     ]
    }
   ],
   "source": [
    "# Create string and then access it\n",
    "my_name = 'Daniel Radityo'\n",
    "print(my_name[:6]) #--> Access from index 0 to 6\n",
    "print(my_name[7:14]) #--> Access from index 7 to 14\n",
    "print(my_name[-10:-2]) #--> Access reverse from index -2 to -10"
   ]
  },
  {
   "cell_type": "code",
   "execution_count": 22,
   "metadata": {},
   "outputs": [
    {
     "name": "stdout",
     "output_type": "stream",
     "text": [
      "DaniEl RadiTyo\n"
     ]
    }
   ],
   "source": [
    "# Change string composition\n",
    "change_my_name = my_name[:4] + 'E' + my_name[5:11] + 'T' + my_name[-2:]\n",
    "print(change_my_name)"
   ]
  },
  {
   "cell_type": "code",
   "execution_count": 25,
   "metadata": {},
   "outputs": [
    {
     "name": "stdout",
     "output_type": "stream",
     "text": [
      "Hello! My name is Daniel Radityo. I came from Indonesia. I am 30years old.\n"
     ]
    }
   ],
   "source": [
    "# Can combine several strings too\n",
    "country = 'Indonesia'\n",
    "age = '30'\n",
    "introduction = 'Hello! My name is ' + my_name + '. I came from ' + country + '. I am ' + age + 'years old.'\n",
    "print(introduction)"
   ]
  },
  {
   "cell_type": "code",
   "execution_count": null,
   "metadata": {},
   "outputs": [],
   "source": []
  }
 ],
 "metadata": {
  "kernelspec": {
   "display_name": "Python 3",
   "language": "python",
   "name": "python3"
  },
  "language_info": {
   "codemirror_mode": {
    "name": "ipython",
    "version": 3
   },
   "file_extension": ".py",
   "mimetype": "text/x-python",
   "name": "python",
   "nbconvert_exporter": "python",
   "pygments_lexer": "ipython3",
   "version": "3.8.5"
  }
 },
 "nbformat": 4,
 "nbformat_minor": 4
}
